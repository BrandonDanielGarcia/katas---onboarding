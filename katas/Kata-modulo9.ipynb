{
 "cells": [
  {
   "cell_type": "markdown",
   "metadata": {},
   "source": [
    "## Ejercicio 1: Trabajar con argumentos en funciones."
   ]
  },
  {
   "cell_type": "markdown",
   "metadata": {},
   "source": [
    "##### Función para leer 3 tanques de combustible y muestre el promedio."
   ]
  },
  {
   "cell_type": "code",
   "execution_count": 1,
   "metadata": {},
   "outputs": [],
   "source": [
    "def reporte(tanque1, tanque2, tanque3):\n",
    "    promedio = (tanque1 + tanque2 + tanque3)/3\n",
    "    return f\"\"\"Reporte:\n",
    "    Promedio de conbustible = {promedio}\n",
    "    Tanque 1 = {tanque1}\n",
    "    Tanque 2 = {tanque2}\n",
    "    Tanque 3 = {tanque3}\n",
    "    \"\"\""
   ]
  },
  {
   "cell_type": "markdown",
   "metadata": {},
   "source": [
    "##### Llamamos a la función que genera el reporte."
   ]
  },
  {
   "cell_type": "code",
   "execution_count": 2,
   "metadata": {},
   "outputs": [
    {
     "name": "stdout",
     "output_type": "stream",
     "text": [
      "Reporte:\n",
      "    Promedio de conbustible = 33.333333333333336\n",
      "    Tanque 1 = 20\n",
      "    Tanque 2 = 70\n",
      "    Tanque 3 = 10\n",
      "    \n"
     ]
    }
   ],
   "source": [
    "print(reporte(20,70,10))"
   ]
  },
  {
   "cell_type": "markdown",
   "metadata": {},
   "source": [
    "##### Función promedio."
   ]
  },
  {
   "cell_type": "code",
   "execution_count": 3,
   "metadata": {},
   "outputs": [],
   "source": [
    "def promedio(valores):\n",
    "    return sum(valores)/len(valores)"
   ]
  },
  {
   "cell_type": "markdown",
   "metadata": {},
   "source": [
    "##### Actualiza la función."
   ]
  },
  {
   "cell_type": "code",
   "execution_count": 10,
   "metadata": {},
   "outputs": [],
   "source": [
    "def reporte(tanque1, tanque2, tanque3):\n",
    "    prom = promedio([tanque1, tanque2, tanque3])\n",
    "    return f\"\"\"Reporte:\n",
    "    Promedio de conbustible = {prom}\n",
    "    Tanque 1 = {tanque1}\n",
    "    Tanque 2 = {tanque2}\n",
    "    Tanque 3 = {tanque3}\n",
    "    \"\"\""
   ]
  },
  {
   "cell_type": "markdown",
   "metadata": {},
   "source": [
    "##### Llamamos a la función que genera el reporte."
   ]
  },
  {
   "cell_type": "code",
   "execution_count": 11,
   "metadata": {},
   "outputs": [
    {
     "name": "stdout",
     "output_type": "stream",
     "text": [
      "Reporte:\n",
      "    Promedio de conbustible = 33.333333333333336\n",
      "    Tanque 1 = 20\n",
      "    Tanque 2 = 70\n",
      "    Tanque 3 = 10\n",
      "    \n"
     ]
    }
   ],
   "source": [
    "print(reporte(20,70,10))"
   ]
  },
  {
   "cell_type": "markdown",
   "metadata": {},
   "source": [
    "## Ejercicio 2: Trabajo con argumentos de palabra clave"
   ]
  },
  {
   "cell_type": "markdown",
   "metadata": {},
   "source": [
    "##### Función con un informe preciso de la misión. Considera hora de prelanzamiento, tiempo de vuelo, destino, tanque externo y tanque interno."
   ]
  },
  {
   "cell_type": "code",
   "execution_count": 14,
   "metadata": {},
   "outputs": [
    {
     "name": "stdout",
     "output_type": "stream",
     "text": [
      "Viaje a Luna: Informe.\n",
      "    Tiempo total transcurrido: 50 min\n",
      "    Total de conbustible: 90\n",
      "    \n"
     ]
    }
   ],
   "source": [
    "def informe(prelanzamiento, tiempoVuelo, destino, tanqueExt, tanqueInt):\n",
    "    return f\"\"\"Viaje a {destino}: Informe.\n",
    "    Tiempo total transcurrido: {prelanzamiento + tiempoVuelo} min\n",
    "    Total de conbustible: {tanqueInt + tanqueExt}\n",
    "    \"\"\"\n",
    "print(informe(10,40,\"Luna\",50,40))"
   ]
  },
  {
   "cell_type": "markdown",
   "metadata": {},
   "source": [
    "##### Escribe tu nueva función de reporte considerando lo anterior."
   ]
  },
  {
   "cell_type": "code",
   "execution_count": 16,
   "metadata": {},
   "outputs": [
    {
     "name": "stdout",
     "output_type": "stream",
     "text": [
      "Viaje a Luna: Informe.\n",
      "    Tiempo total transcurrido: 50 min\n",
      "    Total de conbustible: 90\n",
      "    \n"
     ]
    }
   ],
   "source": [
    "def informe(destino, *tiempos, **tanques):\n",
    "    return f\"\"\"Viaje a {destino}: Informe.\n",
    "    Tiempo total transcurrido: {sum(tiempos)} min\n",
    "    Total de conbustible: {sum(tanques.values())}\n",
    "    \"\"\"\n",
    "print(informe(\"Luna\",10,40,tanqueExt=50,tanqueInt=40,))"
   ]
  },
  {
   "cell_type": "markdown",
   "metadata": {},
   "source": [
    "##### Escribe tu nueva función."
   ]
  },
  {
   "cell_type": "code",
   "execution_count": 18,
   "metadata": {},
   "outputs": [
    {
     "name": "stdout",
     "output_type": "stream",
     "text": [
      "Viaje a Luna: Informe.\n",
      "    Tiempo total transcurrido: 50 min\n",
      "    Total de conbustible: 90\n",
      "    tanqueExt tiene 50 galones de conbustible.\n",
      "tanqueInt tiene 40 galones de conbustible.\n",
      "\n"
     ]
    }
   ],
   "source": [
    "def informe(destino, *tiempos, **tanques):\n",
    "    reporte = f\"\"\"Viaje a {destino}: Informe.\n",
    "    Tiempo total transcurrido: {sum(tiempos)} min\n",
    "    Total de conbustible: {sum(tanques.values())}\n",
    "    \"\"\"\n",
    "    for tanque, cantidad in tanques.items():\n",
    "        reporte += f\"{tanque} tiene {cantidad} galones de conbustible.\\n\"\n",
    "    return reporte\n",
    "print(informe(\"Luna\",10,40,tanqueExt=50,tanqueInt=40,))"
   ]
  }
 ],
 "metadata": {
  "interpreter": {
   "hash": "751698ec237da9ec8f3e8b57f8fe34715419c09858d2fb4c02ab04fd1560b3c9"
  },
  "kernelspec": {
   "display_name": "Python 3.10.2 64-bit",
   "language": "python",
   "name": "python3"
  },
  "language_info": {
   "codemirror_mode": {
    "name": "ipython",
    "version": 3
   },
   "file_extension": ".py",
   "mimetype": "text/x-python",
   "name": "python",
   "nbconvert_exporter": "python",
   "pygments_lexer": "ipython3",
   "version": "3.10.2"
  },
  "orig_nbformat": 4
 },
 "nbformat": 4,
 "nbformat_minor": 2
}
